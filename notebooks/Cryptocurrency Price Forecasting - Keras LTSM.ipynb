{
 "cells": [
  {
   "cell_type": "markdown",
   "metadata": {},
   "source": [
    "# Cryptocurrency Price Forecasting - Keras LTSM\n",
    "\n",
    "I will initially work with only the Bitcoin data and may in future generalise the code and use it for other cryptos if it works out for Bitcoin.\n",
    "\n",
    "refs:\n",
    "https://machinelearningmastery.com/time-series-forecasting-long-short-term-memory-network-python/\n",
    "http://philipperemy.github.io/keras-stateful-lstm/\n",
    "http://adventuresinmachinelearning.com/keras-lstm-tutorial/"
   ]
  },
  {
   "cell_type": "code",
   "execution_count": 21,
   "metadata": {},
   "outputs": [],
   "source": [
    "import pandas as pd\n",
    "from pandas import DataFrame, concat, Series\n",
    "import numpy as np\n",
    "import matplotlib.pyplot as plt\n",
    "import seaborn as sns\n",
    "from datetime import datetime, timedelta\n",
    "from math import sqrt\n",
    "from sklearn.metrics import mean_squared_error \n",
    "from sklearn.preprocessing import MinMaxScaler\n",
    "from keras.layers.core import Dense, Activation, Dropout\n",
    "from keras.layers.recurrent import LSTM\n",
    "from keras.models import Sequential\n",
    "from sklearn.cross_validation import  train_test_split\n",
    "import warnings\n",
    "warnings.filterwarnings('ignore')\n",
    "\n",
    "%matplotlib inline\n",
    "\n",
    "colors = [\"windows blue\", \"amber\", \"faded green\", \"dusty purple\"]\n",
    "sns.set(rc={\"figure.figsize\": (20,10), \"axes.titlesize\" : 18, \"axes.labelsize\" : 12, \n",
    "            \"xtick.labelsize\" : 14, \"ytick.labelsize\" : 14 })"
   ]
  },
  {
   "cell_type": "code",
   "execution_count": 2,
   "metadata": {},
   "outputs": [],
   "source": [
    "dateparse = lambda dates: pd.datetime.strptime(dates, '%Y-%m-%d')\n",
    "df = pd.read_csv('../input/all_currencies.csv', parse_dates=['Date'], index_col='Date', date_parser=dateparse)\n",
    "df = df.loc[:, ~df.columns.str.contains('^Unnamed')]"
   ]
  },
  {
   "cell_type": "code",
   "execution_count": 4,
   "metadata": {},
   "outputs": [
    {
     "data": {
      "text/html": [
       "<div>\n",
       "<style scoped>\n",
       "    .dataframe tbody tr th:only-of-type {\n",
       "        vertical-align: middle;\n",
       "    }\n",
       "\n",
       "    .dataframe tbody tr th {\n",
       "        vertical-align: top;\n",
       "    }\n",
       "\n",
       "    .dataframe thead th {\n",
       "        text-align: right;\n",
       "    }\n",
       "</style>\n",
       "<table border=\"1\" class=\"dataframe\">\n",
       "  <thead>\n",
       "    <tr style=\"text-align: right;\">\n",
       "      <th></th>\n",
       "      <th>Symbol</th>\n",
       "      <th>Open</th>\n",
       "      <th>High</th>\n",
       "      <th>Low</th>\n",
       "      <th>Close</th>\n",
       "      <th>Volume</th>\n",
       "      <th>Market Cap</th>\n",
       "    </tr>\n",
       "    <tr>\n",
       "      <th>Date</th>\n",
       "      <th></th>\n",
       "      <th></th>\n",
       "      <th></th>\n",
       "      <th></th>\n",
       "      <th></th>\n",
       "      <th></th>\n",
       "      <th></th>\n",
       "    </tr>\n",
       "  </thead>\n",
       "  <tbody>\n",
       "    <tr>\n",
       "      <th>2013-04-28</th>\n",
       "      <td>BTC</td>\n",
       "      <td>135.30</td>\n",
       "      <td>135.98</td>\n",
       "      <td>132.10</td>\n",
       "      <td>134.21</td>\n",
       "      <td>NaN</td>\n",
       "      <td>1.500520e+09</td>\n",
       "    </tr>\n",
       "    <tr>\n",
       "      <th>2013-04-29</th>\n",
       "      <td>BTC</td>\n",
       "      <td>134.44</td>\n",
       "      <td>147.49</td>\n",
       "      <td>134.00</td>\n",
       "      <td>144.54</td>\n",
       "      <td>NaN</td>\n",
       "      <td>1.491160e+09</td>\n",
       "    </tr>\n",
       "    <tr>\n",
       "      <th>2013-04-30</th>\n",
       "      <td>BTC</td>\n",
       "      <td>144.00</td>\n",
       "      <td>146.93</td>\n",
       "      <td>134.05</td>\n",
       "      <td>139.00</td>\n",
       "      <td>NaN</td>\n",
       "      <td>1.597780e+09</td>\n",
       "    </tr>\n",
       "    <tr>\n",
       "      <th>2013-05-01</th>\n",
       "      <td>BTC</td>\n",
       "      <td>139.00</td>\n",
       "      <td>139.89</td>\n",
       "      <td>107.72</td>\n",
       "      <td>116.99</td>\n",
       "      <td>NaN</td>\n",
       "      <td>1.542820e+09</td>\n",
       "    </tr>\n",
       "    <tr>\n",
       "      <th>2013-05-02</th>\n",
       "      <td>BTC</td>\n",
       "      <td>116.38</td>\n",
       "      <td>125.60</td>\n",
       "      <td>92.28</td>\n",
       "      <td>105.21</td>\n",
       "      <td>NaN</td>\n",
       "      <td>1.292190e+09</td>\n",
       "    </tr>\n",
       "  </tbody>\n",
       "</table>\n",
       "</div>"
      ],
      "text/plain": [
       "           Symbol    Open    High     Low   Close  Volume    Market Cap\n",
       "Date                                                                   \n",
       "2013-04-28    BTC  135.30  135.98  132.10  134.21     NaN  1.500520e+09\n",
       "2013-04-29    BTC  134.44  147.49  134.00  144.54     NaN  1.491160e+09\n",
       "2013-04-30    BTC  144.00  146.93  134.05  139.00     NaN  1.597780e+09\n",
       "2013-05-01    BTC  139.00  139.89  107.72  116.99     NaN  1.542820e+09\n",
       "2013-05-02    BTC  116.38  125.60   92.28  105.21     NaN  1.292190e+09"
      ]
     },
     "execution_count": 4,
     "metadata": {},
     "output_type": "execute_result"
    }
   ],
   "source": [
    "# Extract the bitcoin data only\n",
    "btc_df = df[df['Symbol'] == 'BTC']\n",
    "\n",
    "# Resample to monthly frequency\n",
    "#btc_df = btc_df.resample('M').mean()\n",
    "\n",
    "btc_df.head()"
   ]
  },
  {
   "cell_type": "markdown",
   "metadata": {},
   "source": [
    "## Data Preparation\n",
    "\n",
    "Before we can fit an LSTM model to the dataset, we must transform the data.\n",
    "\n",
    "This section is broken down into three steps:\n",
    "\n",
    " - Transform the time series data so that it is stationary\n",
    " - Transform the time series for input into the NN\n",
    " - Scale the observations"
   ]
  },
  {
   "cell_type": "code",
   "execution_count": 6,
   "metadata": {},
   "outputs": [],
   "source": [
    "# Convert to Close column to a series has index 4\n",
    "series = btc_df.iloc[:,4]"
   ]
  },
  {
   "cell_type": "markdown",
   "metadata": {},
   "source": [
    "### Transform Time Series to Stationary\n",
    "\n",
    "If a timeseries is stationary, it implies the lack of broad trends (changes in mean and variance over time) in the data. This is important as a consideration in time series forecasting.\n",
    "\n",
    "When building models to forecast time series data (like ARIMA) the data is often differenced (calculate sequentially xt−xt−1) until we get to a point where the series is stationary. Models account for oscillations but not for trends, and therefore, accounting for trends by differencing allows us to use the models that account for oscillations. Once the model has been constructed, we can account for trends separately, by adding the trends component-wise.\n",
    "\n",
    "This can be done by using the diff() function in pandas, or we can get finer grained control and write our own function to do this, which is preferred for its flexibility in this case.\n",
    "\n",
    "Below is a function called difference() that calculates a differenced series. Note that the first observation in the series is skipped as there is no prior observation with which to calculate a differenced value.\n",
    "\n",
    "The inverse function is also defined in order to take forecasts made on the differenced series back into their original scale. "
   ]
  },
  {
   "cell_type": "code",
   "execution_count": 7,
   "metadata": {},
   "outputs": [],
   "source": [
    "# create a differenced series\n",
    "def difference(dataset, interval=1):\n",
    "    diff = list()\n",
    "    for i in range(interval, len(dataset)):\n",
    "        value = dataset[i] - dataset[i - interval]\n",
    "        diff.append(value)\n",
    "    return Series(diff)\n",
    "\n",
    "# invert differenced value\n",
    "def inverse_difference(history, yhat, interval=1):\n",
    "    return yhat + history[-interval]"
   ]
  },
  {
   "cell_type": "code",
   "execution_count": 8,
   "metadata": {},
   "outputs": [],
   "source": [
    "# difference the data\n",
    "raw_values = series.values\n",
    "diff_values = difference(raw_values, 1)"
   ]
  },
  {
   "cell_type": "markdown",
   "metadata": {},
   "source": [
    "### Transform Timeseries for input to NN\n",
    "\n",
    "The LSTM model in Keras assumes the data is divided into input (X) and output (y) components. For a time series problem, we can achieve this by using the observation from the last time step (t-1) as the input and the observation at the current time step (t) as the output.\n",
    "\n",
    "The shift() function in Pandas that moves all values in a series down by a specified number places. In this case a shift of 1 place is required to generate the input variables. The original time series will be used as the output variables.\n",
    "\n",
    "The shift_timeseries() is defined to takes a NumPy array of the raw time series data and a lag, and create a shifted series to be used as input to the neural net."
   ]
  },
  {
   "cell_type": "code",
   "execution_count": 9,
   "metadata": {},
   "outputs": [],
   "source": [
    "# Get a series of shifted values\n",
    "def shift_timeseries(data, lag=1):\n",
    "    df = DataFrame(data)\n",
    "    columns = [df.shift(i) for i in range(1, lag+1)]\n",
    "    columns.append(df)\n",
    "    df = concat(columns, axis=1)\n",
    "    df.fillna(0, inplace=True)\n",
    "    return df"
   ]
  },
  {
   "cell_type": "code",
   "execution_count": null,
   "metadata": {},
   "outputs": [],
   "source": [
    "# Get the shifted input for the NN\n",
    "shifted_values = convert_timeseries_to_supervised(diff_values, 1).values"
   ]
  },
  {
   "cell_type": "markdown",
   "metadata": {},
   "source": [
    "Lets define the test set as the past year and the training set as all the rest of the past data that we have (from early 2013)."
   ]
  },
  {
   "cell_type": "code",
   "execution_count": 11,
   "metadata": {},
   "outputs": [],
   "source": [
    "# split data into train and test-sets\n",
    "train, test = shifted_values[0:-365], shifted_values[-365:]"
   ]
  },
  {
   "cell_type": "markdown",
   "metadata": {},
   "source": [
    "### Scale timeseries\n",
    "\n",
    "Like other neural networks, LSTMs expect data to be within the scale of the activation function used by the network. The default activation function for LSTMs is the hyperbolic tangent (tanh), which outputs values between -1 and 1. This is the preferred range for the time series data.\n",
    "\n",
    "The dataset is transformed to the range [-1, 1] using the MinMaxScaler class. Like other scikit-learn transform classes, it requires data provided in a matrix format with rows and columns. Therefore, we must reshape our NumPy arrays before transforming."
   ]
  },
  {
   "cell_type": "code",
   "execution_count": 12,
   "metadata": {},
   "outputs": [],
   "source": [
    "# scale train and test data to [-1, 1]\n",
    "def scale(train, test):\n",
    "    # fit scaler\n",
    "    scaler = MinMaxScaler(feature_range=(-1, 1))\n",
    "    scaler = scaler.fit(train)\n",
    "    # transform train\n",
    "    train = train.reshape(train.shape[0], train.shape[1])\n",
    "    train_scaled = scaler.transform(train)\n",
    "    # transform test\n",
    "    test = test.reshape(test.shape[0], test.shape[1])\n",
    "    test_scaled = scaler.transform(test)\n",
    "    return scaler, train_scaled, test_scaled\n",
    "\n",
    "# inverse scaling for a forecasted value\n",
    "def invert_scale(scaler, X, value):\n",
    "    new_row = [x for x in X] + [value]\n",
    "    array = np.array(new_row)\n",
    "    array = array.reshape(1, len(array))\n",
    "    inverted = scaler.inverse_transform(array)\n",
    "    return inverted[0, -1]"
   ]
  },
  {
   "cell_type": "markdown",
   "metadata": {},
   "source": [
    "Note: The data needs to be scaled AFTER the training/test split because scaling requires the calculation of min/max, which in real life we do not have for future observations at the time of forecasting.  Therefore, calculation of scaling statistics has to be conducted on training data and must then be applied to the test data. Otherwise future information at the time of forecasting will invalidate the forecasting metrics."
   ]
  },
  {
   "cell_type": "code",
   "execution_count": 13,
   "metadata": {},
   "outputs": [],
   "source": [
    "# scale the data\n",
    "scaler, train_scaled, test_scaled = scale(train, test)"
   ]
  },
  {
   "cell_type": "markdown",
   "metadata": {},
   "source": [
    "## LSTM Model Development\n",
    "\n",
    "A Long Short-Term Memory network (LSTM) network is a kind of recurrent neural network (RNN). A RNN is a neural network that attempts to model time or sequence dependent behaviour. The problem with standard RNNs, constructed from regular neural network nodes, is that as we try to model dependencies between sequence values that are separated by a significant number of other values, we experience the vanishing/exploding gradient problem.\n",
    "\n",
    "This is because small gradients or weights (values less than 1) are multiplied many times over through the multiple time steps, and the gradients shrink asymptotically to zero. This means the weights of those earlier layers won’t be changed significantly and therefore the network won’t learn long-term dependencies.\n",
    "\n",
    "One solution is to consider adding the updates instead of multiplying them, and this is exactly what the LSTM does.\n",
    "\n",
    "LSTM networks are a way of solving this problem. It has LSTM cell blocks in place of the standard NN layers and can learn and remember over long sequences. It does not rely on a pre-specified window lagged observation as input. \n",
    "\n",
    "In order to use this type of model in Keras, we need to set the \"stateful\" argument to True.\n",
    "\n",
    "Lets define the fit_lstm() function train a LSTM model. Initially we will create a simple network with just one LSTM layer."
   ]
  },
  {
   "cell_type": "markdown",
   "metadata": {},
   "source": [
    "A rolling-forecast scenario will be used, in which each time step of the test dataset will be walked one at a time. A model will be used to make a forecast for the time step, then the actual expected value from the test set will be taken and made available to the model for the forecast on the next time step."
   ]
  },
  {
   "cell_type": "code",
   "execution_count": 41,
   "metadata": {},
   "outputs": [
    {
     "data": {
      "text/plain": [
       "(1433, 2)"
      ]
     },
     "execution_count": 41,
     "metadata": {},
     "output_type": "execute_result"
    }
   ],
   "source": [
    "train_scaled.shape"
   ]
  },
  {
   "cell_type": "code",
   "execution_count": 40,
   "metadata": {},
   "outputs": [
    {
     "data": {
      "text/plain": [
       "(1433, 1)"
      ]
     },
     "execution_count": 40,
     "metadata": {},
     "output_type": "execute_result"
    }
   ],
   "source": [
    "train[:, 0:-1].shape"
   ]
  },
  {
   "cell_type": "code",
   "execution_count": 43,
   "metadata": {},
   "outputs": [
    {
     "data": {
      "text/plain": [
       "(1433,)"
      ]
     },
     "execution_count": 43,
     "metadata": {},
     "output_type": "execute_result"
    }
   ],
   "source": [
    "train[:, -1].shape"
   ]
  },
  {
   "cell_type": "code",
   "execution_count": 37,
   "metadata": {},
   "outputs": [],
   "source": [
    "def fit_lstm(train, batch_size, nb_epoch, neurons):\n",
    "    X, y = train[:, 0:-1], train[:, -1]\n",
    "    X = X.reshape(X.shape[0], 1, X.shape[1])\n",
    "    model = Sequential()\n",
    "    model.add(LSTM(neurons, batch_input_shape=(batch_size, X.shape[1], X.shape[2]), stateful=True))\n",
    "    model.add(Dense(1))\n",
    "    model.compile(loss='mean_squared_error', optimizer='adam')\n",
    "    for i in range(nb_epoch):\n",
    "        model.fit(X, y, epochs=1, batch_size=batch_size, verbose=1, shuffle=False)\n",
    "        model.reset_states()\n",
    "    return model"
   ]
  },
  {
   "cell_type": "markdown",
   "metadata": {},
   "source": [
    "The batch size limits the number of samples to be shown to the network before a weight update can be performed. In this case we want to make one-step predictions, as is usual with timeseries, so we will set it to 1.\n",
    "\n",
    "We will not tune the network parameters in this tutorial; instead we will use the following configuration, found with a little trial and error:\n",
    "\n",
    "    Batch Size: 1\n",
    "    Epochs: 3000\n",
    "    Neurons: 4\n",
    "    \n",
    "The optimizer that will be used is the Adam optimizer – an effective “all round” optimizer with adaptive stepping. "
   ]
  },
  {
   "cell_type": "markdown",
   "metadata": {},
   "source": [
    "## LSTM Forecast"
   ]
  },
  {
   "cell_type": "code",
   "execution_count": 15,
   "metadata": {},
   "outputs": [],
   "source": [
    "# one-step forecast method\n",
    "def forecast_lstm(model, batch_size, X):\n",
    "    X = X.reshape(1, 1, len(X))\n",
    "    yhat = model.predict(X, batch_size=batch_size)\n",
    "    return yhat[0,0]"
   ]
  },
  {
   "cell_type": "code",
   "execution_count": 28,
   "metadata": {},
   "outputs": [
    {
     "name": "stdout",
     "output_type": "stream",
     "text": [
      "Epoch 1/1\n",
      "1433/1433 [==============================] - 4s 3ms/step - loss: 0.0135\n",
      "Epoch 1/1\n",
      "1433/1433 [==============================] - 3s 2ms/step - loss: 0.0134\n"
     ]
    }
   ],
   "source": [
    "# fit the model\n",
    "batch_size = 1\n",
    "epochs = 2\n",
    "#epochs = 3000\n",
    "neurons = 2\n",
    "test_days = -365\n",
    "\n",
    "lstm_model = fit_lstm(train_scaled, batch_size, epochs, neurons)\n",
    "# forecast the entire training dataset to build up state for forecasting\n",
    "train_reshaped = train_scaled[:, 0].reshape(len(train_scaled), 1, 1)\n",
    "trian_predict = lstm_model.predict(train_reshaped, batch_size=1)\n",
    "\n",
    "# walk-forward validation on the test data\n",
    "predictions = list()\n",
    "for i in range(len(test_scaled)):\n",
    "    # make one-step forecast\n",
    "    X, y = test_scaled[i, 0:-1], test_scaled[i, -1]\n",
    "    yhat = forecast_lstm(lstm_model, 1, X)\n",
    "    # invert scaling\n",
    "    yhat = invert_scale(scaler, X, yhat)\n",
    "    # invert differencing\n",
    "    yhat = inverse_difference(raw_values, yhat, len(test_scaled)+1-i)\n",
    "    # store forecast\n",
    "    predictions.append(yhat)\n",
    "    expected = raw_values[len(train) + i + 1]\n",
    "    #print('Day=%d, Predicted=%f, Expected=%f' % (i+1, yhat, expected))"
   ]
  },
  {
   "cell_type": "code",
   "execution_count": 30,
   "metadata": {},
   "outputs": [
    {
     "name": "stdout",
     "output_type": "stream",
     "text": [
      "Day=1, Predicted=1043.115206, Expected=1080.500000\n",
      "Day=2, Predicted=1056.697877, Expected=1102.170000\n",
      "Day=3, Predicted=1084.123567, Expected=1143.810000\n",
      "Day=4, Predicted=1130.123611, Expected=1133.250000\n",
      "Day=5, Predicted=1121.796533, Expected=1124.780000\n",
      "Day=6, Predicted=1115.711861, Expected=1182.680000\n",
      "Day=7, Predicted=1176.626032, Expected=1176.900000\n",
      "Day=8, Predicted=1172.803225, Expected=1175.950000\n",
      "Day=9, Predicted=1173.305375, Expected=1187.870000\n",
      "Day=10, Predicted=1186.398654, Expected=1187.130000\n",
      "Day=11, Predicted=1186.530022, Expected=1205.010000\n",
      "Day=12, Predicted=1205.143486, Expected=1200.370000\n",
      "Day=13, Predicted=1201.052338, Expected=1169.280000\n",
      "Day=14, Predicted=1169.949415, Expected=1167.540000\n",
      "Day=15, Predicted=1168.113933, Expected=1172.520000\n",
      "Day=16, Predicted=1173.185732, Expected=1182.940000\n",
      "Day=17, Predicted=1183.859805, Expected=1193.910000\n",
      "Day=18, Predicted=1195.159042, Expected=1211.670000\n",
      "Day=19, Predicted=1213.276050, Expected=1210.290000\n",
      "Day=20, Predicted=1212.178516, Expected=1229.080000\n",
      "Day=21, Predicted=1231.114904, Expected=1222.050000\n",
      "Day=22, Predicted=1224.215366, Expected=1231.710000\n",
      "Day=23, Predicted=1233.834538, Expected=1207.210000\n",
      "Day=24, Predicted=1209.148514, Expected=1250.150000\n",
      "Day=25, Predicted=1251.997634, Expected=1265.490000\n",
      "Day=26, Predicted=1267.744693, Expected=1281.080000\n",
      "Day=27, Predicted=1283.611781, Expected=1317.730000\n",
      "Day=28, Predicted=1320.510798, Expected=1316.480000\n",
      "Day=29, Predicted=1319.616128, Expected=1321.790000\n",
      "Day=30, Predicted=1324.843184, Expected=1347.890000\n",
      "Day=31, Predicted=1350.869511, Expected=1421.600000\n",
      "Day=32, Predicted=1424.706710, Expected=1452.820000\n",
      "Day=33, Predicted=1456.795270, Expected=1490.090000\n",
      "Day=34, Predicted=1494.436303, Expected=1537.670000\n",
      "Day=35, Predicted=1542.262583, Expected=1555.450000\n",
      "Day=36, Predicted=1560.421354, Expected=1578.800000\n",
      "Day=37, Predicted=1583.681564, Expected=1596.710000\n",
      "Day=38, Predicted=1601.455186, Expected=1723.350000\n",
      "Day=39, Predicted=1727.413789, Expected=1755.360000\n",
      "Day=40, Predicted=1760.913213, Expected=1787.130000\n",
      "Day=41, Predicted=1792.949686, Expected=1848.570000\n",
      "Day=42, Predicted=1854.218891, Expected=1724.240000\n",
      "Day=43, Predicted=1729.415416, Expected=1804.910000\n",
      "Day=44, Predicted=1808.574234, Expected=1808.910000\n",
      "Day=45, Predicted=1812.531772, Expected=1738.430000\n",
      "Day=46, Predicted=1741.168784, Expected=1734.450000\n",
      "Day=47, Predicted=1736.214976, Expected=1839.090000\n",
      "Day=48, Predicted=1840.655656, Expected=1888.650000\n",
      "Day=49, Predicted=1891.412328, Expected=1987.710000\n",
      "Day=50, Predicted=1991.110949, Expected=2084.730000\n",
      "Day=51, Predicted=2089.236859, Expected=2041.200000\n",
      "Day=52, Predicted=2047.333904, Expected=2173.400000\n",
      "Day=53, Predicted=2178.159816, Expected=2320.420000\n",
      "Day=54, Predicted=2325.402739, Expected=2443.640000\n",
      "Day=55, Predicted=2449.871917, Expected=2304.980000\n",
      "Day=56, Predicted=2313.091702, Expected=2202.420000\n",
      "Day=57, Predicted=2207.353314, Expected=2038.870000\n",
      "Day=58, Predicted=2038.389647, Expected=2155.800000\n",
      "Day=59, Predicted=2155.409839, Expected=2255.610000\n",
      "Day=60, Predicted=2255.711115, Expected=2175.470000\n",
      "Day=61, Predicted=2176.246803, Expected=2286.410000\n",
      "Day=62, Predicted=2287.382847, Expected=2407.880000\n",
      "Day=63, Predicted=2409.957304, Expected=2488.550000\n",
      "Day=64, Predicted=2492.510010, Expected=2515.350000\n",
      "Day=65, Predicted=2520.825526, Expected=2511.810000\n",
      "Day=66, Predicted=2517.624212, Expected=2686.810000\n",
      "Day=67, Predicted=2691.034762, Expected=2863.200000\n",
      "Day=68, Predicted=2867.977438, Expected=2732.160000\n",
      "Day=69, Predicted=2740.089735, Expected=2805.620000\n",
      "Day=70, Predicted=2811.519493, Expected=2823.810000\n",
      "Day=71, Predicted=2829.428253, Expected=2947.710000\n",
      "Day=72, Predicted=2952.382395, Expected=2958.110000\n",
      "Day=73, Predicted=2964.169223, Expected=2659.630000\n",
      "Day=74, Predicted=2659.534158, Expected=2717.020000\n",
      "Day=75, Predicted=2717.168533, Expected=2506.370000\n",
      "Day=76, Predicted=2500.074901, Expected=2464.580000\n",
      "Day=77, Predicted=2458.363602, Expected=2518.560000\n",
      "Day=78, Predicted=2513.571543, Expected=2655.880000\n",
      "Day=79, Predicted=2652.883147, Expected=2548.290000\n",
      "Day=80, Predicted=2546.157885, Expected=2589.600000\n",
      "Day=81, Predicted=2588.373920, Expected=2721.790000\n",
      "Day=82, Predicted=2721.650450, Expected=2689.100000\n",
      "Day=83, Predicted=2691.002996, Expected=2705.410000\n",
      "Day=84, Predicted=2707.606083, Expected=2744.910000\n",
      "Day=85, Predicted=2747.430038, Expected=2608.720000\n",
      "Day=86, Predicted=2609.968765, Expected=2589.410000\n",
      "Day=87, Predicted=2589.587017, Expected=2478.450000\n",
      "Day=88, Predicted=2476.067127, Expected=2552.450000\n",
      "Day=89, Predicted=2550.741157, Expected=2574.790000\n",
      "Day=90, Predicted=2573.860998, Expected=2539.320000\n",
      "Day=91, Predicted=2538.804030, Expected=2480.840000\n",
      "Day=92, Predicted=2479.792587, Expected=2434.550000\n",
      "Day=93, Predicted=2432.798596, Expected=2506.470000\n",
      "Day=94, Predicted=2505.379838, Expected=2564.060000\n",
      "Day=95, Predicted=2564.205757, Expected=2601.640000\n",
      "Day=96, Predicted=2603.136436, Expected=2601.990000\n",
      "Day=97, Predicted=2604.393195, Expected=2608.560000\n",
      "Day=98, Predicted=2611.199440, Expected=2518.660000\n",
      "Day=99, Predicted=2520.358762, Expected=2571.340000\n",
      "Day=100, Predicted=2572.606946, Expected=2518.440000\n",
      "Day=101, Predicted=2519.334341, Expected=2372.560000\n",
      "Day=102, Predicted=2370.410164, Expected=2337.790000\n",
      "Day=103, Predicted=2334.798585, Expected=2398.840000\n",
      "Day=104, Predicted=2396.467892, Expected=2357.900000\n",
      "Day=105, Predicted=2355.763640, Expected=2233.340000\n",
      "Day=106, Predicted=2229.255651, Expected=1998.860000\n",
      "Day=107, Predicted=1987.727259, Expected=1929.820000\n",
      "Day=108, Predicted=1919.383523, Expected=2228.410000\n",
      "Day=109, Predicted=2222.466014, Expected=2318.880000\n",
      "Day=110, Predicted=2316.392021, Expected=2273.430000\n",
      "Day=111, Predicted=2273.185396, Expected=2817.600000\n",
      "Day=112, Predicted=2812.942491, Expected=2667.760000\n",
      "Day=113, Predicted=2670.690300, Expected=2810.120000\n",
      "Day=114, Predicted=2812.377317, Expected=2730.400000\n",
      "Day=115, Predicted=2733.598784, Expected=2754.860000\n",
      "Day=116, Predicted=2757.454212, Expected=2576.480000\n",
      "Day=117, Predicted=2575.811850, Expected=2529.450000\n",
      "Day=118, Predicted=2527.395171, Expected=2671.780000\n",
      "Day=119, Predicted=2670.340043, Expected=2809.010000\n",
      "Day=120, Predicted=2809.101913, Expected=2726.450000\n",
      "Day=121, Predicted=2728.533587, Expected=2757.180000\n",
      "Day=122, Predicted=2759.178772, Expected=2875.340000\n",
      "Day=123, Predicted=2877.495339, Expected=2718.260000\n",
      "Day=124, Predicted=2720.288207, Expected=2710.670000\n",
      "Day=125, Predicted=2711.690123, Expected=2804.730000\n",
      "Day=126, Predicted=2805.598681, Expected=2895.890000\n",
      "Day=127, Predicted=2897.760946, Expected=3252.910000\n",
      "Day=128, Predicted=3252.560360, Expected=3213.940000\n",
      "Day=129, Predicted=3220.652072, Expected=3378.940000\n",
      "Day=130, Predicted=3384.120531, Expected=3419.940000\n",
      "Day=131, Predicted=3427.230588, Expected=3342.470000\n",
      "Day=132, Predicted=3350.064135, Expected=3381.280000\n",
      "Day=133, Predicted=3387.118147, Expected=3650.620000\n",
      "Day=134, Predicted=3653.459669, Expected=3884.710000\n",
      "Day=135, Predicted=3888.533869, Expected=4073.260000\n",
      "Day=136, Predicted=4079.210104, Expected=4325.130000\n",
      "Day=137, Predicted=4330.787876, Expected=4181.930000\n",
      "Day=138, Predicted=4193.766002, Expected=4376.630000\n",
      "Day=139, Predicted=4383.909254, Expected=4331.690000\n",
      "Day=140, Predicted=4340.756170, Expected=4160.620000\n",
      "Day=141, Predicted=4166.362520, Expected=4193.700000\n",
      "Day=142, Predicted=4197.189813, Expected=4087.660000\n",
      "Day=143, Predicted=4088.345861, Expected=4001.740000\n",
      "Day=144, Predicted=3999.901435, Expected=4100.520000\n",
      "Day=145, Predicted=4099.159744, Expected=4151.520000\n",
      "Day=146, Predicted=4151.222259, Expected=4334.680000\n",
      "Day=147, Predicted=4335.149172, Expected=4371.600000\n",
      "Day=148, Predicted=4375.298461, Expected=4352.400000\n",
      "Day=149, Predicted=4357.171915, Expected=4382.880000\n",
      "Day=150, Predicted=4387.354008, Expected=4382.660000\n",
      "Day=151, Predicted=4387.060492, Expected=4579.020000\n",
      "Day=152, Predicted=4582.000377, Expected=4565.300000\n",
      "Day=153, Predicted=4571.138696, Expected=4703.390000\n",
      "Day=154, Predicted=4708.241175, Expected=4892.010000\n",
      "Day=155, Predicted=4896.695022, Expected=4578.770000\n",
      "Day=156, Predicted=4582.344772, Expected=4582.960000\n",
      "Day=157, Predicted=4585.136889, Expected=4236.310000\n",
      "Day=158, Predicted=4225.081837, Expected=4376.530000\n",
      "Day=159, Predicted=4371.802825, Expected=4597.120000\n",
      "Day=160, Predicted=4593.517879, Expected=4599.880000\n",
      "Day=161, Predicted=4599.447320, Expected=4228.750000\n",
      "Day=162, Predicted=4217.862013, Expected=4226.060000\n",
      "Day=163, Predicted=4218.950667, Expected=4122.940000\n",
      "Day=164, Predicted=4113.115516, Expected=4161.270000\n",
      "Day=165, Predicted=4154.035240, Expected=4130.810000\n",
      "Day=166, Predicted=4124.203045, Expected=3882.590000\n",
      "Day=167, Predicted=3869.306078, Expected=3154.950000\n",
      "Day=168, Predicted=3101.439981, Expected=3637.520000\n",
      "Day=169, Predicted=3621.748999, Expected=3625.040000\n",
      "Day=170, Predicted=3607.390359, Expected=3582.880000\n",
      "Day=171, Predicted=3569.374303, Expected=4065.200000\n",
      "Day=172, Predicted=4056.131743, Expected=3924.970000\n",
      "Day=173, Predicted=3921.214465, Expected=3905.950000\n",
      "Day=174, Predicted=3903.199289, Expected=3631.040000\n",
      "Day=175, Predicted=3620.673545, Expected=3630.700000\n",
      "Day=176, Predicted=3623.230896, Expected=3792.400000\n",
      "Day=177, Predicted=3787.482849, Expected=3682.840000\n",
      "Day=178, Predicted=3678.043755, Expected=3926.070000\n",
      "Day=179, Predicted=3923.192075, Expected=3892.350000\n",
      "Day=180, Predicted=3892.812310, Expected=4200.670000\n",
      "Day=181, Predicted=4200.021205, Expected=4174.730000\n",
      "Day=182, Predicted=4179.540547, Expected=4163.070000\n",
      "Day=183, Predicted=4168.040499, Expected=4338.710000\n",
      "Day=184, Predicted=4342.297092, Expected=4403.740000\n",
      "Day=185, Predicted=4409.383771, Expected=4409.320000\n",
      "Day=186, Predicted=4416.004372, Expected=4317.480000\n",
      "Day=187, Predicted=4323.368519, Expected=4229.360000\n",
      "Day=188, Predicted=4232.542745, Expected=4328.410000\n",
      "Day=189, Predicted=4330.432594, Expected=4370.810000\n",
      "Day=190, Predicted=4373.234550, Expected=4426.890000\n",
      "Day=191, Predicted=4429.888514, Expected=4610.480000\n",
      "Day=192, Predicted=4613.197229, Expected=4772.020000\n",
      "Day=193, Predicted=4776.323616, Expected=4781.990000\n",
      "Day=194, Predicted=4789.575780, Expected=4826.480000\n",
      "Day=195, Predicted=4833.938124, Expected=5446.910000\n",
      "Day=196, Predicted=5444.420144, Expected=5647.210000\n",
      "Day=197, Predicted=5651.571534, Expected=5831.790000\n",
      "Day=198, Predicted=5837.858252, Expected=5678.190000\n",
      "Day=199, Predicted=5688.392102, Expected=5725.590000\n",
      "Day=200, Predicted=5733.126083, Expected=5605.510000\n",
      "Day=201, Predicted=5610.978208, Expected=5590.690000\n",
      "Day=202, Predicted=5593.919462, Expected=5708.520000\n",
      "Day=203, Predicted=5710.700776, Expected=6011.450000\n",
      "Day=204, Predicted=6012.010492, Expected=6031.600000\n",
      "Day=205, Predicted=6037.556169, Expected=6008.420000\n",
      "Day=206, Predicted=6015.117639, Expected=5930.320000\n",
      "Day=207, Predicted=5935.785238, Expected=5526.640000\n",
      "Day=208, Predicted=5517.002577, Expected=5750.800000\n",
      "Day=209, Predicted=5748.004911, Expected=5904.830000\n",
      "Day=210, Predicted=5902.663749, Expected=5780.900000\n",
      "Day=211, Predicted=5779.470399, Expected=5753.090000\n",
      "Day=212, Predicted=5751.527787, Expected=6153.850000\n",
      "Day=213, Predicted=6150.854646, Expected=6130.530000\n",
      "Day=214, Predicted=6133.539000, Expected=6468.400000\n",
      "Day=215, Predicted=6468.732979, Expected=6767.310000\n",
      "Day=216, Predicted=6769.138561, Expected=7078.500000\n",
      "Day=217, Predicted=7081.423541, Expected=7207.760000\n",
      "Day=218, Predicted=7216.106358, Expected=7379.950000\n",
      "Day=219, Predicted=7388.454688, Expected=7407.410000\n",
      "Day=220, Predicted=7418.949076, Expected=7022.760000\n",
      "Day=221, Predicted=7027.186583, Expected=7144.380000\n",
      "Day=222, Predicted=7148.132793, Expected=7459.690000\n",
      "Day=223, Predicted=7460.226251, Expected=7143.580000\n",
      "Day=224, Predicted=7142.097782, Expected=6618.140000\n",
      "Day=225, Predicted=6591.000193, Expected=6357.600000\n",
      "Day=226, Predicted=6329.037573, Expected=5950.070000\n",
      "Day=227, Predicted=5904.379052, Expected=6559.490000\n",
      "Day=228, Predicted=6547.850850, Expected=6635.750000\n",
      "Day=229, Predicted=6622.080500, Expected=7315.540000\n",
      "Day=230, Predicted=7303.682770, Expected=7871.690000\n",
      "Day=231, Predicted=7863.223111, Expected=7708.990000\n",
      "Day=232, Predicted=7711.057290, Expected=7790.150000\n",
      "Day=233, Predicted=7792.197410, Expected=8036.490000\n",
      "Day=234, Predicted=8037.746242, Expected=8200.640000\n",
      "Day=235, Predicted=8204.595888, Expected=8071.260000\n",
      "Day=236, Predicted=8078.637419, Expected=8253.550000\n",
      "Day=237, Predicted=8258.245399, Expected=8038.770000\n",
      "Day=238, Predicted=8042.854527, Expected=8253.690000\n",
      "Day=239, Predicted=8255.981952, Expected=8790.920000\n",
      "Day=240, Predicted=8787.678362, Expected=9330.550000\n",
      "Day=241, Predicted=9326.703332, Expected=9818.350000\n",
      "Day=242, Predicted=9815.968732, Expected=10058.800000\n",
      "Day=243, Predicted=10063.137358, Expected=9888.610000\n",
      "Day=244, Predicted=9899.390217, Expected=10233.600000\n",
      "Day=245, Predicted=10237.690783, Expected=10975.600000\n",
      "Day=246, Predicted=10970.673784, Expected=11074.600000\n",
      "Day=247, Predicted=11079.850974, Expected=11323.200000\n",
      "Day=248, Predicted=11327.217230, Expected=11657.200000\n",
      "Day=249, Predicted=11660.065572, Expected=11916.700000\n",
      "Day=250, Predicted=11921.993148, Expected=14291.500000\n",
      "Day=251, Predicted=14291.192666, Expected=17899.700000\n",
      "Day=252, Predicted=17899.392666, Expected=16569.400000\n",
      "Day=253, Predicted=16506.701302, Expected=15178.200000\n",
      "Day=254, Predicted=15089.539703, Expected=15455.400000\n",
      "Day=255, Predicted=15431.239560, Expected=16936.800000\n",
      "Day=256, Predicted=16927.439333, Expected=17415.400000\n",
      "Day=257, Predicted=17408.754802, Expected=16408.200000\n",
      "Day=258, Predicted=16363.507059, Expected=16564.000000\n",
      "Day=259, Predicted=16551.197190, Expected=17706.900000\n",
      "Day=260, Predicted=17698.049784, Expected=19497.400000\n",
      "Day=261, Predicted=19497.092666, Expected=19140.800000\n",
      "Day=262, Predicted=19130.057478, Expected=19114.200000\n",
      "Day=263, Predicted=19106.427922, Expected=17776.700000\n",
      "Day=264, Predicted=17702.994031, Expected=16624.600000\n",
      "Day=265, Predicted=16533.060082, Expected=15802.900000\n"
     ]
    },
    {
     "name": "stdout",
     "output_type": "stream",
     "text": [
      "Day=266, Predicted=15718.344184, Expected=13831.800000\n",
      "Day=267, Predicted=13741.343125, Expected=14699.200000\n",
      "Day=268, Predicted=14669.056119, Expected=13925.800000\n",
      "Day=269, Predicted=13833.678653, Expected=14026.600000\n",
      "Day=270, Predicted=13980.616880, Expected=16099.800000\n",
      "Day=271, Predicted=16099.492666, Expected=15838.500000\n",
      "Day=272, Predicted=15832.485422, Expected=14606.500000\n",
      "Day=273, Predicted=14534.745061, Expected=14656.200000\n",
      "Day=274, Predicted=14637.817604, Expected=12952.200000\n",
      "Day=275, Predicted=12868.381332, Expected=14156.400000\n",
      "Day=276, Predicted=14120.226221, Expected=13657.200000\n",
      "Day=277, Predicted=13613.647814, Expected=14982.100000\n",
      "Day=278, Predicted=14967.531592, Expected=15201.000000\n",
      "Day=279, Predicted=15195.316628, Expected=15599.200000\n",
      "Day=280, Predicted=15595.071019, Expected=17429.500000\n",
      "Day=281, Predicted=17429.192666, Expected=17527.000000\n",
      "Day=282, Predicted=17527.752771, Expected=16477.600000\n",
      "Day=283, Predicted=16428.532134, Expected=15170.100000\n",
      "Day=284, Predicted=15082.048003, Expected=14595.400000\n",
      "Day=285, Predicted=14525.191473, Expected=14973.300000\n",
      "Day=286, Predicted=14949.055352, Expected=13405.800000\n",
      "Day=287, Predicted=13314.331250, Expected=13980.600000\n",
      "Day=288, Predicted=13960.442974, Expected=14360.200000\n",
      "Day=289, Predicted=14337.618869, Expected=13772.000000\n",
      "Day=290, Predicted=13725.250614, Expected=13819.800000\n",
      "Day=291, Predicted=13795.922717, Expected=11490.500000\n",
      "Day=292, Predicted=11418.029304, Expected=11188.600000\n",
      "Day=293, Predicted=11138.195618, Expected=11474.900000\n",
      "Day=294, Predicted=11452.559168, Expected=11607.400000\n",
      "Day=295, Predicted=11587.098816, Expected=12899.200000\n",
      "Day=296, Predicted=12889.517882, Expected=11600.100000\n",
      "Day=297, Predicted=11533.670534, Expected=10931.400000\n",
      "Day=298, Predicted=10865.631131, Expected=10868.400000\n",
      "Day=299, Predicted=10827.147832, Expected=11359.400000\n",
      "Day=300, Predicted=11344.736277, Expected=11259.400000\n",
      "Day=301, Predicted=11236.697027, Expected=11171.400000\n",
      "Day=302, Predicted=11152.156245, Expected=11440.700000\n",
      "Day=303, Predicted=11430.603617, Expected=11786.300000\n",
      "Day=304, Predicted=11779.782068, Expected=11296.400000\n",
      "Day=305, Predicted=11279.251767, Expected=10106.300000\n",
      "Day=306, Predicted=10029.462627, Expected=10221.100000\n",
      "Day=307, Predicted=10200.853439, Expected=9170.540000\n",
      "Day=308, Predicted=9082.329229, Expected=8830.750000\n",
      "Day=309, Predicted=8774.125296, Expected=9174.910000\n",
      "Day=310, Predicted=9157.243568, Expected=8277.010000\n",
      "Day=311, Predicted=8193.196857, Expected=6955.270000\n",
      "Day=312, Predicted=6858.150026, Expected=7754.000000\n",
      "Day=313, Predicted=7726.268374, Expected=7621.300000\n",
      "Day=314, Predicted=7570.959438, Expected=8265.590000\n",
      "Day=315, Predicted=8240.819139, Expected=8736.980000\n",
      "Day=316, Predicted=8722.758564, Expected=8621.900000\n",
      "Day=317, Predicted=8617.499610, Expected=8129.970000\n",
      "Day=318, Predicted=8107.088369, Expected=8926.570000\n",
      "Day=319, Predicted=8912.361060, Expected=8598.310000\n",
      "Day=320, Predicted=8578.757037, Expected=9494.630000\n",
      "Day=321, Predicted=9480.867004, Expected=10166.400000\n",
      "Day=322, Predicted=10154.719682, Expected=10233.900000\n",
      "Day=323, Predicted=10233.771462, Expected=11112.700000\n",
      "Day=324, Predicted=11105.174386, Expected=10551.800000\n",
      "Day=325, Predicted=10530.661766, Expected=11225.300000\n",
      "Day=326, Predicted=11213.874708, Expected=11403.700000\n",
      "Day=327, Predicted=11398.486748, Expected=10690.400000\n",
      "Day=328, Predicted=10657.097183, Expected=10005.000000\n",
      "Day=329, Predicted=9944.636140, Expected=10301.100000\n",
      "Day=330, Predicted=10280.917526, Expected=9813.070000\n",
      "Day=331, Predicted=9761.557090, Expected=9664.730000\n",
      "Day=332, Predicted=9628.576988, Expected=10366.700000\n",
      "Day=333, Predicted=10351.917501, Expected=10725.600000\n",
      "Day=334, Predicted=10714.871003, Expected=10397.900000\n",
      "Day=335, Predicted=10384.918181, Expected=10951.000000\n",
      "Day=336, Predicted=10942.206155, Expected=11086.400000\n",
      "Day=337, Predicted=11084.455367, Expected=11489.700000\n",
      "Day=338, Predicted=11486.982327, Expected=11512.600000\n",
      "Day=339, Predicted=11518.567983, Expected=11573.300000\n",
      "Day=340, Predicted=11580.093258, Expected=10779.900000\n",
      "Day=341, Predicted=10751.858830, Expected=9965.570000\n",
      "Day=342, Predicted=9900.272926, Expected=9395.010000\n",
      "Day=343, Predicted=9326.415856, Expected=9337.550000\n",
      "Day=344, Predicted=9293.878162, Expected=8866.000000\n",
      "Day=345, Predicted=8797.904662, Expected=9578.630000\n",
      "Day=346, Predicted=9565.317908, Expected=9205.120000\n",
      "Day=347, Predicted=9159.839972, Expected=9194.850000\n",
      "Day=348, Predicted=9168.665644, Expected=8269.810000\n",
      "Day=349, Predicted=8191.856102, Expected=8300.860000\n",
      "Day=350, Predicted=8268.469146, Expected=8338.350000\n",
      "Day=351, Predicted=8309.827971, Expected=7916.880000\n",
      "Day=352, Predicted=7867.970207, Expected=8223.680000\n",
      "Day=353, Predicted=8208.636202, Expected=8630.650000\n",
      "Day=354, Predicted=8619.819554, Expected=8913.470000\n",
      "Day=355, Predicted=8907.365339, Expected=8929.280000\n",
      "Day=356, Predicted=8929.527551, Expected=8728.470000\n",
      "Day=357, Predicted=8727.427082, Expected=8879.620000\n",
      "Day=358, Predicted=8879.319665, Expected=8668.120000\n",
      "Day=359, Predicted=8664.894263, Expected=8495.780000\n",
      "Day=360, Predicted=8488.149779, Expected=8209.400000\n",
      "Day=361, Predicted=8190.995493, Expected=7833.040000\n",
      "Day=362, Predicted=7799.679467, Expected=7954.480000\n",
      "Day=363, Predicted=7940.114037, Expected=7165.700000\n",
      "Day=364, Predicted=7101.596385, Expected=6890.520000\n",
      "Day=365, Predicted=6843.246917, Expected=6973.530000\n"
     ]
    }
   ],
   "source": [
    "x"
   ]
  },
  {
   "cell_type": "code",
   "execution_count": 31,
   "metadata": {},
   "outputs": [
    {
     "name": "stdout",
     "output_type": "stream",
     "text": [
      "Test RMSE: 521.071\n"
     ]
    }
   ],
   "source": [
    "# report performance\n",
    "rmse = sqrt(mean_squared_error(raw_values[test_days:], predictions))\n",
    "print('Test RMSE: %.3f' % rmse)"
   ]
  },
  {
   "cell_type": "code",
   "execution_count": 32,
   "metadata": {},
   "outputs": [
    {
     "data": {
      "image/png": "[encoded data removed]",
      "text/plain": [
       "<matplotlib.figure.Figure at 0x7f4edc36c470>"
      ]
     },
     "metadata": {},
     "output_type": "display_data"
    }
   ],
   "source": [
    "# plot of observed vs predicted\n",
    "plt.plot(raw_values[test_days:])\n",
    "plt.plot(predictions)\n",
    "plt.show()"
   ]
  },
  {
   "cell_type": "markdown",
   "metadata": {},
   "source": [
    "So the one-step predictions are fairly accurate. Lets try this out with monthly predictions."
   ]
  },
  {
   "cell_type": "code",
   "execution_count": 33,
   "metadata": {},
   "outputs": [
    {
     "ename": "ValueError",
     "evalue": "In a stateful network, you should only pass inputs with a number of samples that can be divided by the batch size. Found: 1433 samples",
     "output_type": "error",
     "traceback": [
      "\u001b[0;31m---------------------------------------------------------------------------\u001b[0m",
      "\u001b[0;31mValueError\u001b[0m                                Traceback (most recent call last)",
      "\u001b[0;32m<ipython-input-33-48c2a16840ad>\u001b[0m in \u001b[0;36m<module>\u001b[0;34m()\u001b[0m\n\u001b[1;32m      6\u001b[0m \u001b[0mtest_days\u001b[0m \u001b[0;34m=\u001b[0m \u001b[0;34m-\u001b[0m\u001b[0;36m365\u001b[0m\u001b[0;34m\u001b[0m\u001b[0m\n\u001b[1;32m      7\u001b[0m \u001b[0;34m\u001b[0m\u001b[0m\n\u001b[0;32m----> 8\u001b[0;31m \u001b[0mlstm_model\u001b[0m \u001b[0;34m=\u001b[0m \u001b[0mfit_lstm\u001b[0m\u001b[0;34m(\u001b[0m\u001b[0mtrain_scaled\u001b[0m\u001b[0;34m,\u001b[0m \u001b[0mbatch_size\u001b[0m\u001b[0;34m,\u001b[0m \u001b[0mepochs\u001b[0m\u001b[0;34m,\u001b[0m \u001b[0mneurons\u001b[0m\u001b[0;34m)\u001b[0m\u001b[0;34m\u001b[0m\u001b[0m\n\u001b[0m\u001b[1;32m      9\u001b[0m \u001b[0;31m# forecast the entire training dataset to build up state for forecasting\u001b[0m\u001b[0;34m\u001b[0m\u001b[0;34m\u001b[0m\u001b[0m\n\u001b[1;32m     10\u001b[0m \u001b[0mtrain_reshaped\u001b[0m \u001b[0;34m=\u001b[0m \u001b[0mtrain_scaled\u001b[0m\u001b[0;34m[\u001b[0m\u001b[0;34m:\u001b[0m\u001b[0;34m,\u001b[0m \u001b[0;36m0\u001b[0m\u001b[0;34m]\u001b[0m\u001b[0;34m.\u001b[0m\u001b[0mreshape\u001b[0m\u001b[0;34m(\u001b[0m\u001b[0mlen\u001b[0m\u001b[0;34m(\u001b[0m\u001b[0mtrain_scaled\u001b[0m\u001b[0;34m)\u001b[0m\u001b[0;34m,\u001b[0m \u001b[0;36m1\u001b[0m\u001b[0;34m,\u001b[0m \u001b[0;36m1\u001b[0m\u001b[0;34m)\u001b[0m\u001b[0;34m\u001b[0m\u001b[0m\n",
      "\u001b[0;32m<ipython-input-26-72a3aa23be6d>\u001b[0m in \u001b[0;36mfit_lstm\u001b[0;34m(train, batch_size, nb_epoch, neurons)\u001b[0m\n\u001b[1;32m      7\u001b[0m     \u001b[0mmodel\u001b[0m\u001b[0;34m.\u001b[0m\u001b[0mcompile\u001b[0m\u001b[0;34m(\u001b[0m\u001b[0mloss\u001b[0m\u001b[0;34m=\u001b[0m\u001b[0;34m'mean_squared_error'\u001b[0m\u001b[0;34m,\u001b[0m \u001b[0moptimizer\u001b[0m\u001b[0;34m=\u001b[0m\u001b[0;34m'adam'\u001b[0m\u001b[0;34m)\u001b[0m\u001b[0;34m\u001b[0m\u001b[0m\n\u001b[1;32m      8\u001b[0m     \u001b[0;32mfor\u001b[0m \u001b[0mi\u001b[0m \u001b[0;32min\u001b[0m \u001b[0mrange\u001b[0m\u001b[0;34m(\u001b[0m\u001b[0mnb_epoch\u001b[0m\u001b[0;34m)\u001b[0m\u001b[0;34m:\u001b[0m\u001b[0;34m\u001b[0m\u001b[0m\n\u001b[0;32m----> 9\u001b[0;31m         \u001b[0mmodel\u001b[0m\u001b[0;34m.\u001b[0m\u001b[0mfit\u001b[0m\u001b[0;34m(\u001b[0m\u001b[0mX\u001b[0m\u001b[0;34m,\u001b[0m \u001b[0my\u001b[0m\u001b[0;34m,\u001b[0m \u001b[0mepochs\u001b[0m\u001b[0;34m=\u001b[0m\u001b[0;36m1\u001b[0m\u001b[0;34m,\u001b[0m \u001b[0mbatch_size\u001b[0m\u001b[0;34m=\u001b[0m\u001b[0mbatch_size\u001b[0m\u001b[0;34m,\u001b[0m \u001b[0mverbose\u001b[0m\u001b[0;34m=\u001b[0m\u001b[0;36m1\u001b[0m\u001b[0;34m,\u001b[0m \u001b[0mshuffle\u001b[0m\u001b[0;34m=\u001b[0m\u001b[0;32mFalse\u001b[0m\u001b[0;34m)\u001b[0m\u001b[0;34m\u001b[0m\u001b[0m\n\u001b[0m\u001b[1;32m     10\u001b[0m         \u001b[0mmodel\u001b[0m\u001b[0;34m.\u001b[0m\u001b[0mreset_states\u001b[0m\u001b[0;34m(\u001b[0m\u001b[0;34m)\u001b[0m\u001b[0;34m\u001b[0m\u001b[0m\n\u001b[1;32m     11\u001b[0m     \u001b[0;32mreturn\u001b[0m \u001b[0mmodel\u001b[0m\u001b[0;34m\u001b[0m\u001b[0m\n",
      "\u001b[0;32m~/anaconda3/lib/python3.6/site-packages/keras/models.py\u001b[0m in \u001b[0;36mfit\u001b[0;34m(self, x, y, batch_size, epochs, verbose, callbacks, validation_split, validation_data, shuffle, class_weight, sample_weight, initial_epoch, steps_per_epoch, validation_steps, **kwargs)\u001b[0m\n\u001b[1;32m    961\u001b[0m                               \u001b[0minitial_epoch\u001b[0m\u001b[0;34m=\u001b[0m\u001b[0minitial_epoch\u001b[0m\u001b[0;34m,\u001b[0m\u001b[0;34m\u001b[0m\u001b[0m\n\u001b[1;32m    962\u001b[0m                               \u001b[0msteps_per_epoch\u001b[0m\u001b[0;34m=\u001b[0m\u001b[0msteps_per_epoch\u001b[0m\u001b[0;34m,\u001b[0m\u001b[0;34m\u001b[0m\u001b[0m\n\u001b[0;32m--> 963\u001b[0;31m                               validation_steps=validation_steps)\n\u001b[0m\u001b[1;32m    964\u001b[0m \u001b[0;34m\u001b[0m\u001b[0m\n\u001b[1;32m    965\u001b[0m     def evaluate(self, x=None, y=None,\n",
      "\u001b[0;32m~/anaconda3/lib/python3.6/site-packages/keras/engine/training.py\u001b[0m in \u001b[0;36mfit\u001b[0;34m(self, x, y, batch_size, epochs, verbose, callbacks, validation_split, validation_data, shuffle, class_weight, sample_weight, initial_epoch, steps_per_epoch, validation_steps, **kwargs)\u001b[0m\n\u001b[1;32m   1635\u001b[0m             \u001b[0msample_weight\u001b[0m\u001b[0;34m=\u001b[0m\u001b[0msample_weight\u001b[0m\u001b[0;34m,\u001b[0m\u001b[0;34m\u001b[0m\u001b[0m\n\u001b[1;32m   1636\u001b[0m             \u001b[0mclass_weight\u001b[0m\u001b[0;34m=\u001b[0m\u001b[0mclass_weight\u001b[0m\u001b[0;34m,\u001b[0m\u001b[0;34m\u001b[0m\u001b[0m\n\u001b[0;32m-> 1637\u001b[0;31m             batch_size=batch_size)\n\u001b[0m\u001b[1;32m   1638\u001b[0m         \u001b[0;31m# Prepare validation data.\u001b[0m\u001b[0;34m\u001b[0m\u001b[0;34m\u001b[0m\u001b[0m\n\u001b[1;32m   1639\u001b[0m         \u001b[0mdo_validation\u001b[0m \u001b[0;34m=\u001b[0m \u001b[0;32mFalse\u001b[0m\u001b[0;34m\u001b[0m\u001b[0m\n",
      "\u001b[0;32m~/anaconda3/lib/python3.6/site-packages/keras/engine/training.py\u001b[0m in \u001b[0;36m_standardize_user_data\u001b[0;34m(self, x, y, sample_weight, class_weight, check_array_lengths, batch_size)\u001b[0m\n\u001b[1;32m   1505\u001b[0m                                  \u001b[0;34m'a number of samples that can be '\u001b[0m\u001b[0;34m\u001b[0m\u001b[0m\n\u001b[1;32m   1506\u001b[0m                                  \u001b[0;34m'divided by the batch size. Found: '\u001b[0m \u001b[0;34m+\u001b[0m\u001b[0;34m\u001b[0m\u001b[0m\n\u001b[0;32m-> 1507\u001b[0;31m                                  str(x[0].shape[0]) + ' samples')\n\u001b[0m\u001b[1;32m   1508\u001b[0m         \u001b[0;32mreturn\u001b[0m \u001b[0mx\u001b[0m\u001b[0;34m,\u001b[0m \u001b[0my\u001b[0m\u001b[0;34m,\u001b[0m \u001b[0msample_weights\u001b[0m\u001b[0;34m\u001b[0m\u001b[0m\n\u001b[1;32m   1509\u001b[0m \u001b[0;34m\u001b[0m\u001b[0m\n",
      "\u001b[0;31mValueError\u001b[0m: In a stateful network, you should only pass inputs with a number of samples that can be divided by the batch size. Found: 1433 samples"
     ]
    }
   ],
   "source": [
    "# fit the model\n",
    "batch_size = 12\n",
    "epochs = 2\n",
    "#epochs = 3000\n",
    "neurons = 2\n",
    "test_days = -365\n",
    "\n",
    "lstm_model = fit_lstm(train_scaled, batch_size, epochs, neurons)\n",
    "# forecast the entire training dataset to build up state for forecasting\n",
    "train_reshaped = train_scaled[:, 0].reshape(len(train_scaled), 1, 1)\n",
    "trian_predict = lstm_model.predict(train_reshaped, batch_size=1)\n",
    "\n",
    "# walk-forward validation on the test data\n",
    "predictions = list()\n",
    "for i in range(len(test_scaled)):\n",
    "    # make one-step forecast\n",
    "    X, y = test_scaled[i, 0:-1], test_scaled[i, -1]\n",
    "    yhat = forecast_lstm(lstm_model, 1, X)\n",
    "    # invert scaling\n",
    "    yhat = invert_scale(scaler, X, yhat)\n",
    "    # invert differencing\n",
    "    yhat = inverse_difference(raw_values, yhat, len(test_scaled)+1-i)\n",
    "    # store forecast\n",
    "    predictions.append(yhat)\n",
    "    expected = raw_values[len(train) + i + 1]\n",
    "    #print('Day=%d, Predicted=%f, Expected=%f' % (i+1, yhat, expected))"
   ]
  },
  {
   "cell_type": "code",
   "execution_count": null,
   "metadata": {},
   "outputs": [],
   "source": [
    "# report performance\n",
    "rmse = sqrt(mean_squared_error(raw_values[test_days:], predictions))\n",
    "print('Test RMSE: %.3f' % rmse)"
   ]
  },
  {
   "cell_type": "code",
   "execution_count": null,
   "metadata": {},
   "outputs": [],
   "source": [
    "# plot of observed vs predicted\n",
    "plt.plot(raw_values[test_days:])\n",
    "plt.plot(predictions)\n",
    "plt.show()"
   ]
  }
 ],
 "metadata": {
  "kernelspec": {
   "display_name": "Python 3",
   "language": "python",
   "name": "python3"
  },
  "language_info": {
   "codemirror_mode": {
    "name": "ipython",
    "version": 3
   },
   "file_extension": ".py",
   "mimetype": "text/x-python",
   "name": "python",
   "nbconvert_exporter": "python",
   "pygments_lexer": "ipython3",
   "version": "3.6.4"
  }
 },
 "nbformat": 4,
 "nbformat_minor": 2
}
